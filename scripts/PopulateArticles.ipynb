{
 "cells": [
  {
   "cell_type": "code",
   "execution_count": 5,
   "metadata": {},
   "outputs": [],
   "source": [
    "import json\n",
    "import requests\n",
    "from random import randint\n",
    "import numpy as np\n"
   ]
  },
  {
   "cell_type": "code",
   "execution_count": 6,
   "metadata": {
    "scrolled": true
   },
   "outputs": [],
   "source": [
    "total = 50 #random number just to start loop\n",
    "offset= 0\n",
    "\n",
    "iteminfo = []\n",
    "allsizes = [\"38\", \"39\", \"40\", \"41\", \"42\", \"43\", \"44\", \"45\"]\n",
    "\n",
    "\n",
    "while offset < total:\n",
    "    r = requests.get('https://api.mercadolibre.com/sites/MLA/search?seller_id=257128833&category=MLA22389&offset='+str(offset))\n",
    "    data = r.json()\n",
    "    offset = offset + len(data['results'])\n",
    "    total = data['paging']['total']\n",
    "    for item in data['results']:\n",
    "        newitem = {}\n",
    "        newitem['title'] = item['title']\n",
    "        newitem['price'] = item['price']\n",
    "        newitem['stock'] = item['available_quantity']\n",
    "        itemreq = requests.get('https://api.mercadolibre.com/items/'+item['id']+'?attributes=attributes,pictures')\n",
    "        itemattributes = itemreq.json()\n",
    "        for attr in itemattributes['attributes']:\n",
    "            if attr['id'] == 'BRAND':\n",
    "                newitem['brand'] = attr['value_name']\n",
    "            if attr['id'] == 'RECOMMENDED_SPORTS':\n",
    "                newitem['category'] = attr['value_name']\n",
    "        #get only the first picture\n",
    "        picture_id = itemattributes['pictures'][0]['id']\n",
    "        picrequest = requests.get('https://api.mercadolibre.com/pictures/'+picture_id)\n",
    "        picdata = picrequest.json()\n",
    "        for pic in picdata['variations']:\n",
    "            if pic['size'] == '400x400':\n",
    "                newitem['pictureurl'] = pic['url']\n",
    "                break\n",
    "        if 'category' not in newitem:\n",
    "            newitem['category'] = \"Urban\" \n",
    "        if 'brand' not in newitem:\n",
    "            newitem['brand'] = \"Other\" \n",
    "        newitem['sizes'] = np.random.choice(allsizes, randint(1,8), False)\n",
    "        iteminfo.append(newitem)\n",
    "\n",
    "        \n",
    "\n",
    "\n"
   ]
  },
  {
   "cell_type": "markdown",
   "metadata": {},
   "source": [
    "for art in iteminfo:\n",
    "    print(art['title'])\n",
    "    print(art['price'])\n",
    "    print(art['stock'])\n",
    "    print(art['brand'])\n",
    "    print(art['sizes'])\n",
    "    print(art['pictureurl'])\n",
    "    print(art['category']+'\\n')"
   ]
  },
  {
   "cell_type": "code",
   "execution_count": 7,
   "metadata": {},
   "outputs": [],
   "source": [
    "import pymysql\n",
    "\n",
    "db = pymysql.connect(\"localhost\",\"root\",\"nico\",\"bookstore\" )\n",
    "\n",
    "cursor = db.cursor()\n",
    "\n",
    "\n",
    "for article in iteminfo:\n",
    "    cursor.execute(\"INSERT INTO `article` (`title`, `stock`, `price`, `picture`) VALUES (%s, %s, %s, %s)\", (article['title'], str(article['stock']), str(article['price']), str(article['pictureurl'])))\n",
    "    articleid = cursor.lastrowid\n",
    "    cursor.execute(\"INSERT INTO `brand` (`name`, `article_id`) VALUES (%s, %s)\", (article['brand'], articleid))\n",
    "    cursor.execute(\"INSERT INTO `category` (`name`, `article_id`) VALUES (%s, %s)\", (article['category'], articleid))\n",
    "    for size in article['sizes']:\n",
    "        cursor.execute(\"INSERT INTO `size` (`value`, `article_id`) VALUES (%s, %s)\", (size, articleid))\n",
    "    \n",
    "\n",
    "    \n",
    "\n",
    "\n",
    "db.close()"
   ]
  }
 ],
 "metadata": {
  "kernelspec": {
   "display_name": "Python 3",
   "language": "python",
   "name": "python3"
  },
  "language_info": {
   "codemirror_mode": {
    "name": "ipython",
    "version": 3
   },
   "file_extension": ".py",
   "mimetype": "text/x-python",
   "name": "python",
   "nbconvert_exporter": "python",
   "pygments_lexer": "ipython3",
   "version": "3.5.2"
  }
 },
 "nbformat": 4,
 "nbformat_minor": 2
}
